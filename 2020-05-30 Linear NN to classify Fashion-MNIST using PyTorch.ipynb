{
 "cells": [
  {
   "cell_type": "code",
   "execution_count": 1,
   "metadata": {},
   "outputs": [],
   "source": [
    "import numpy as np\n",
    "import matplotlib.pyplot as plt\n",
    "\n",
    "import torch\n",
    "import torch.optim as optim\n",
    "import torch.nn as nn\n",
    "import torch.nn.functional as F\n",
    "\n",
    "from torchvision import datasets, transforms\n",
    "\n",
    "%matplotlib inline\n",
    "%config InlineBackend.figure_format = 'retina'"
   ]
  },
  {
   "cell_type": "code",
   "execution_count": 13,
   "metadata": {},
   "outputs": [],
   "source": [
    "def imshow(image, ax=None, title=None, normalize=True):\n",
    "    \"\"\"Imshow for Tensor.\"\"\"\n",
    "    if ax is None:\n",
    "        fig, ax = plt.subplots()\n",
    "    image = image.numpy().transpose((1, 2, 0))\n",
    "\n",
    "    if normalize:\n",
    "        mean = np.array([0.485, 0.456, 0.406])\n",
    "        std = np.array([0.229, 0.224, 0.225])\n",
    "        image = std * image + mean\n",
    "        image = np.clip(image, 0, 1)\n",
    "\n",
    "    ax.imshow(image)\n",
    "    ax.spines['top'].set_visible(False)\n",
    "    ax.spines['right'].set_visible(False)\n",
    "    ax.spines['left'].set_visible(False)\n",
    "    ax.spines['bottom'].set_visible(False)\n",
    "    ax.tick_params(axis='both', length=0)\n",
    "    ax.set_xticklabels('')\n",
    "    ax.set_yticklabels('')\n",
    "\n",
    "    return ax\n",
    "\n",
    "def view_classify(img, ps, version=\"MNIST\"):\n",
    "    ''' Function for viewing an image and it's predicted classes.\n",
    "    '''\n",
    "    ps = ps.data.numpy().squeeze()\n",
    "\n",
    "    fig, (ax1, ax2) = plt.subplots(figsize=(6,9), ncols=2)\n",
    "    ax1.imshow(img.resize_(1, 28, 28).numpy().squeeze())\n",
    "    ax1.axis('off')\n",
    "    ax2.barh(np.arange(10), ps)\n",
    "    ax2.set_aspect(0.1)\n",
    "    ax2.set_yticks(np.arange(10))\n",
    "    if version == \"MNIST\":\n",
    "        ax2.set_yticklabels(np.arange(10))\n",
    "    elif version == \"Fashion\":\n",
    "        ax2.set_yticklabels(['T-shirt/top',\n",
    "                            'Trouser',\n",
    "                            'Pullover',\n",
    "                            'Dress',\n",
    "                            'Coat',\n",
    "                            'Sandal',\n",
    "                            'Shirt',\n",
    "                            'Sneaker',\n",
    "                            'Bag',\n",
    "                            'Ankle Boot'], size='small');\n",
    "    ax2.set_title('Class Probability')\n",
    "    ax2.set_xlim(0, 1.1)\n",
    "\n",
    "    plt.tight_layout()"
   ]
  },
  {
   "cell_type": "code",
   "execution_count": 3,
   "metadata": {},
   "outputs": [],
   "source": [
    "# Load data and transform\n",
    "transform = transforms.Compose([transforms.ToTensor(),\n",
    "                               transforms.Normalize((0.5,), (0.5,))])\n",
    "\n",
    "trainset = datasets.FashionMNIST('~/.pytorch/F_MNIST_data/', download=True, train=True, transform=transform)\n",
    "trainloader = torch.utils.data.DataLoader(trainset, batch_size=64, shuffle=True)\n",
    "\n",
    "testset = datasets.FashionMNIST('~/.pytorch/F_MNIST_data/', download=True, train=False, transform=transform)\n",
    "testloader = torch.utils.data.DataLoader(testset, batch_size=64, shuffle=True)"
   ]
  },
  {
   "cell_type": "code",
   "execution_count": 4,
   "metadata": {},
   "outputs": [
    {
     "data": {
      "image/png": "[encoded data removed]",
      "text/plain": [
       "<Figure size 432x288 with 1 Axes>"
      ]
     },
     "metadata": {
      "image/png": {
       "height": 231,
       "width": 231
      },
      "needs_background": "light"
     },
     "output_type": "display_data"
    }
   ],
   "source": [
    "# show an image\n",
    "images, labels = next(iter(trainloader))\n",
    "imshow(images[0,:])\n",
    "plt.show()"
   ]
  },
  {
   "cell_type": "code",
   "execution_count": 11,
   "metadata": {},
   "outputs": [],
   "source": [
    "def linear_model(learning_rate=0.001, epochs=20, dataset=None):\n",
    "    \n",
    "    # Define my model\n",
    "    model = nn.Sequential(nn.Linear(784, 256),\n",
    "                          nn.ReLU(),\n",
    "                          nn.Linear(256, 128),\n",
    "                          nn.ReLU(),\n",
    "                          nn.Linear(128, 64),\n",
    "                          nn.ReLU(),\n",
    "                          nn.Linear(64, 10),\n",
    "                          nn.LogSoftmax(dim=1))\n",
    "    \n",
    "    criterion = nn.CrossEntropyLoss()\n",
    "    optimizer = optim.Adam(model.parameters(), lr=learning_rate)\n",
    "    \n",
    "    losses = []\n",
    "    \n",
    "    for e in range(epochs):\n",
    "        running_loss = 0\n",
    "\n",
    "        for images, labels in dataset:\n",
    "            \n",
    "            optimizer.zero_grad()\n",
    "            images = images.view(images.shape[0], -1)\n",
    "            output = model(images)\n",
    "            loss = criterion(output, labels)\n",
    "            loss.backward()\n",
    "            optimizer.step()\n",
    "            running_loss += loss.item()\n",
    "        else:\n",
    "            print (f'Loss = {running_loss/len(trainloader)}')\n",
    "\n",
    "        losses.append(running_loss/len(trainloader))\n",
    "    \n",
    "    return model, losses"
   ]
  },
  {
   "cell_type": "code",
   "execution_count": 29,
   "metadata": {},
   "outputs": [
    {
     "name": "stdout",
     "output_type": "stream",
     "text": [
      "Loss = 0.5329763150132542\n",
      "Loss = 0.4110986596739877\n",
      "Loss = 0.38221088487869387\n",
      "Loss = 0.359220037359927\n",
      "Loss = 0.34351311561300046\n",
      "Loss = 0.3322212963041339\n",
      "Loss = 0.32760793080271433\n",
      "Loss = 0.3187428833976356\n",
      "Loss = 0.31379076750325496\n",
      "Loss = 0.3028393682997936\n",
      "Loss = 0.3071310613582383\n",
      "Loss = 0.2873831820775514\n",
      "Loss = 0.2899983875246953\n",
      "Loss = 0.2938026916672553\n",
      "Loss = 0.28345243869496306\n",
      "Loss = 0.2861016691604784\n",
      "Loss = 0.27689449910892605\n",
      "Loss = 0.2685175808404745\n",
      "Loss = 0.26829813401709235\n",
      "Loss = 0.27508382284358496\n"
     ]
    }
   ],
   "source": [
    "model_0, losses = linear_model(learning_rate=0.005, epochs=20, dataset=trainloader)"
   ]
  },
  {
   "cell_type": "code",
   "execution_count": 31,
   "metadata": {},
   "outputs": [
    {
     "name": "stdout",
     "output_type": "stream",
     "text": [
      "Loss = 0.508472918622148\n",
      "Loss = 0.38111790204480256\n",
      "Loss = 0.3451921691788412\n",
      "Loss = 0.32105886667712663\n",
      "Loss = 0.3031859474935765\n",
      "Loss = 0.2888719005418866\n",
      "Loss = 0.27980863678255186\n",
      "Loss = 0.26885159802970604\n",
      "Loss = 0.25423319026160596\n",
      "Loss = 0.2501587364306328\n",
      "Loss = 0.24077427646975275\n",
      "Loss = 0.23392040871465003\n",
      "Loss = 0.22452437050386406\n",
      "Loss = 0.22089184371869702\n",
      "Loss = 0.2136886447890481\n",
      "Loss = 0.20760980056626582\n",
      "Loss = 0.1989641367618654\n",
      "Loss = 0.1985536624989244\n",
      "Loss = 0.19244241293495906\n",
      "Loss = 0.1879608848694164\n"
     ]
    }
   ],
   "source": [
    "model_1, losses_1 = linear_model(learning_rate=0.002, epochs=20, dataset=trainloader)"
   ]
  },
  {
   "cell_type": "code",
   "execution_count": 32,
   "metadata": {},
   "outputs": [
    {
     "name": "stdout",
     "output_type": "stream",
     "text": [
      "Loss = 0.5183035954991891\n",
      "Loss = 0.37475353589793764\n",
      "Loss = 0.3388366132561586\n",
      "Loss = 0.31310752457551866\n",
      "Loss = 0.29615016148955836\n",
      "Loss = 0.27978174873728995\n",
      "Loss = 0.263245774230469\n",
      "Loss = 0.25087355197206745\n",
      "Loss = 0.24157290930734643\n",
      "Loss = 0.2308735694212001\n",
      "Loss = 0.22464031853210698\n",
      "Loss = 0.21233948289172483\n",
      "Loss = 0.20372572032484546\n",
      "Loss = 0.1948552212552793\n",
      "Loss = 0.18682045296930683\n",
      "Loss = 0.1810631553179769\n",
      "Loss = 0.17244537148489628\n",
      "Loss = 0.16480740752102915\n",
      "Loss = 0.15821212304156346\n",
      "Loss = 0.15270275264970465\n"
     ]
    }
   ],
   "source": [
    "model_2, losses_2 = linear_model(learning_rate=0.001, epochs=20, dataset=trainloader)"
   ]
  },
  {
   "cell_type": "code",
   "execution_count": 33,
   "metadata": {},
   "outputs": [
    {
     "name": "stdout",
     "output_type": "stream",
     "text": [
      "Loss = 0.5500994022689394\n",
      "Loss = 0.3828221998695753\n",
      "Loss = 0.3408164220022113\n",
      "Loss = 0.3166120560533965\n",
      "Loss = 0.2956260013650221\n",
      "Loss = 0.28238681261378057\n",
      "Loss = 0.2638965809840892\n",
      "Loss = 0.25314025388661227\n",
      "Loss = 0.24049732982635752\n",
      "Loss = 0.2309567037382042\n",
      "Loss = 0.22004398002203848\n",
      "Loss = 0.21081338317663684\n",
      "Loss = 0.20159534250955974\n",
      "Loss = 0.19385664311172104\n",
      "Loss = 0.18545120980725613\n",
      "Loss = 0.18064126601891478\n",
      "Loss = 0.1680137990638296\n",
      "Loss = 0.1622489349249361\n",
      "Loss = 0.1570105715148421\n",
      "Loss = 0.15098437056469638\n"
     ]
    }
   ],
   "source": [
    "model_3, losses_3 = linear_model(learning_rate=0.0005, epochs=20, dataset=trainloader)"
   ]
  },
  {
   "cell_type": "code",
   "execution_count": 5,
   "metadata": {},
   "outputs": [],
   "source": [
    "def linear_model(learning_rate=0.001, epochs=20, dataset=None):\n",
    "    \n",
    "    # Define my model\n",
    "    model = nn.Sequential(nn.Linear(784, 128),\n",
    "                          nn.ReLU(),\n",
    "                          nn.Linear(128, 64),\n",
    "                          nn.ReLU(),\n",
    "                          nn.Linear(64, 10),\n",
    "                          nn.LogSoftmax(dim=1))\n",
    "    \n",
    "    criterion = nn.CrossEntropyLoss()\n",
    "    optimizer = optim.Adam(model.parameters(), lr=learning_rate)\n",
    "    \n",
    "    losses = []\n",
    "    \n",
    "    for e in range(epochs):\n",
    "        running_loss = 0\n",
    "\n",
    "        for images, labels in dataset:\n",
    "            \n",
    "            optimizer.zero_grad()\n",
    "            images = images.view(images.shape[0], -1)\n",
    "            output = model(images)\n",
    "            loss = criterion(output, labels)\n",
    "            loss.backward()\n",
    "            optimizer.step()\n",
    "            running_loss += loss.item()\n",
    "        else:\n",
    "            print (f'Loss = {running_loss/len(trainloader)}')\n",
    "\n",
    "        losses.append(running_loss/len(trainloader))\n",
    "    \n",
    "    return model, losses"
   ]
  },
  {
   "cell_type": "code",
   "execution_count": 36,
   "metadata": {},
   "outputs": [
    {
     "name": "stdout",
     "output_type": "stream",
     "text": [
      "Loss = 0.5090929095202418\n",
      "Loss = 0.40463538733181925\n",
      "Loss = 0.3707030719912637\n",
      "Loss = 0.35363923849613427\n",
      "Loss = 0.3382063672137159\n",
      "Loss = 0.33239723710236013\n",
      "Loss = 0.32018753948972933\n",
      "Loss = 0.3102551768980682\n",
      "Loss = 0.30874881806817134\n",
      "Loss = 0.30121132038009446\n",
      "Loss = 0.3003759566209972\n",
      "Loss = 0.2914863798632296\n",
      "Loss = 0.28179340460883784\n",
      "Loss = 0.2828654621058563\n",
      "Loss = 0.2780798884438299\n",
      "Loss = 0.2765358709084835\n",
      "Loss = 0.27714256555445665\n",
      "Loss = 0.27276813255539584\n",
      "Loss = 0.2656593975076861\n",
      "Loss = 0.26491311278297447\n"
     ]
    }
   ],
   "source": [
    "model_0, losses_0 = linear_model(learning_rate=0.005, epochs=20, dataset=trainloader)"
   ]
  },
  {
   "cell_type": "code",
   "execution_count": 6,
   "metadata": {},
   "outputs": [
    {
     "name": "stdout",
     "output_type": "stream",
     "text": [
      "Loss = 0.4959626724915718\n",
      "Loss = 0.38129370909001525\n",
      "Loss = 0.342362722560668\n",
      "Loss = 0.31897420175611846\n",
      "Loss = 0.30263544903444584\n",
      "Loss = 0.28886782455800186\n",
      "Loss = 0.27703066612643473\n",
      "Loss = 0.26669876673804926\n",
      "Loss = 0.258721731750092\n",
      "Loss = 0.25102798110926583\n",
      "Loss = 0.24191581286283445\n",
      "Loss = 0.23692054511991137\n",
      "Loss = 0.22906810180274154\n",
      "Loss = 0.22237422770814602\n",
      "Loss = 0.21887771670085027\n",
      "Loss = 0.21126783577633945\n",
      "Loss = 0.21109807400751723\n",
      "Loss = 0.20246582411166067\n",
      "Loss = 0.19744332421070604\n",
      "Loss = 0.19352937284023014\n"
     ]
    }
   ],
   "source": [
    "model_1, losses_1 = linear_model(learning_rate=0.002, epochs=20, dataset=trainloader)"
   ]
  },
  {
   "cell_type": "code",
   "execution_count": 7,
   "metadata": {},
   "outputs": [
    {
     "name": "stdout",
     "output_type": "stream",
     "text": [
      "Loss = 0.5156111275908281\n",
      "Loss = 0.3780209472470446\n",
      "Loss = 0.34030484009399087\n",
      "Loss = 0.31421140744996223\n",
      "Loss = 0.29583659070704793\n",
      "Loss = 0.2834290783844396\n",
      "Loss = 0.26850385323706977\n",
      "Loss = 0.2579657205704179\n",
      "Loss = 0.2460079254276717\n",
      "Loss = 0.23864944285548317\n",
      "Loss = 0.22869130950778532\n",
      "Loss = 0.21782565180426722\n",
      "Loss = 0.21106428469517338\n",
      "Loss = 0.20359699988463667\n",
      "Loss = 0.19796949010620365\n",
      "Loss = 0.18999020671491812\n",
      "Loss = 0.18449557264810051\n",
      "Loss = 0.18073534718486292\n",
      "Loss = 0.17125964310488848\n",
      "Loss = 0.16845918105625268\n"
     ]
    }
   ],
   "source": [
    "model_2, losses_2 = linear_model(learning_rate=0.001, epochs=20, dataset=trainloader)"
   ]
  },
  {
   "cell_type": "code",
   "execution_count": 8,
   "metadata": {},
   "outputs": [],
   "source": [
    "def linear_model(learning_rate=0.001, epochs=20, dataset=None):\n",
    "    \n",
    "    # Define my model\n",
    "    model = nn.Sequential(nn.Linear(784, 512),\n",
    "                          nn.ReLU(),\n",
    "                          nn.Linear(512, 256),\n",
    "                          nn.ReLU(),\n",
    "                          nn.Linear(256, 128),\n",
    "                          nn.ReLU(),\n",
    "                          nn.Linear(128, 64),\n",
    "                          nn.ReLU(),\n",
    "                          nn.Linear(64, 10),\n",
    "                          nn.LogSoftmax(dim=1))\n",
    "    \n",
    "    criterion = nn.CrossEntropyLoss()\n",
    "    optimizer = optim.Adam(model.parameters(), lr=learning_rate)\n",
    "    \n",
    "    losses = []\n",
    "    \n",
    "    for e in range(epochs):\n",
    "        running_loss = 0\n",
    "\n",
    "        for images, labels in dataset:\n",
    "            \n",
    "            optimizer.zero_grad()\n",
    "            images = images.view(images.shape[0], -1)\n",
    "            output = model(images)\n",
    "            loss = criterion(output, labels)\n",
    "            loss.backward()\n",
    "            optimizer.step()\n",
    "            running_loss += loss.item()\n",
    "        else:\n",
    "            print (f'Loss = {running_loss/len(trainloader)}')\n",
    "\n",
    "        losses.append(running_loss/len(trainloader))\n",
    "    \n",
    "    return model, losses"
   ]
  },
  {
   "cell_type": "code",
   "execution_count": 9,
   "metadata": {},
   "outputs": [
    {
     "name": "stdout",
     "output_type": "stream",
     "text": [
      "Loss = 0.5705814439414153\n",
      "Loss = 0.43173820530173623\n",
      "Loss = 0.3943067376595189\n",
      "Loss = 0.36892938969740224\n",
      "Loss = 0.3583989020254312\n",
      "Loss = 0.35020388643751776\n",
      "Loss = 0.33317031721665913\n",
      "Loss = 0.33301785230032926\n",
      "Loss = 0.32715722047157886\n",
      "Loss = 0.31626245897334776\n",
      "Loss = 0.30869091985258723\n",
      "Loss = 0.3158264734279881\n",
      "Loss = 0.29466591564132205\n",
      "Loss = 0.292739578353952\n",
      "Loss = 0.29966468792925005\n",
      "Loss = 0.289261950342767\n",
      "Loss = 0.29040805117757335\n",
      "Loss = 0.29530439745865145\n",
      "Loss = 0.30157507420666435\n",
      "Loss = 0.2780239284515127\n"
     ]
    }
   ],
   "source": [
    "model_0, losses_0 = linear_model(learning_rate=0.005, epochs=20, dataset=trainloader)"
   ]
  },
  {
   "cell_type": "code",
   "execution_count": 10,
   "metadata": {},
   "outputs": [
    {
     "name": "stdout",
     "output_type": "stream",
     "text": [
      "Loss = 0.532971894245412\n",
      "Loss = 0.39357095454801627\n",
      "Loss = 0.3546171318382215\n",
      "Loss = 0.327638505729658\n",
      "Loss = 0.3067425027299029\n",
      "Loss = 0.2931446066972162\n",
      "Loss = 0.27541619880812\n",
      "Loss = 0.26746846530546764\n",
      "Loss = 0.25346606519462456\n",
      "Loss = 0.24541680875824076\n",
      "Loss = 0.23531733159380935\n",
      "Loss = 0.22721867556812794\n",
      "Loss = 0.22179273949233072\n",
      "Loss = 0.21463879893647073\n",
      "Loss = 0.20138793393397636\n",
      "Loss = 0.20387788459277356\n",
      "Loss = 0.19224872208162666\n",
      "Loss = 0.19159701908193927\n",
      "Loss = 0.18072482644479032\n",
      "Loss = 0.1765294790561837\n"
     ]
    }
   ],
   "source": [
    "model_1, losses_1 = linear_model(learning_rate=0.002, epochs=20, dataset=trainloader)"
   ]
  },
  {
   "cell_type": "markdown",
   "metadata": {},
   "source": [
    "It seems that model 1 performed better. We'll try model 1 with more epochs"
   ]
  },
  {
   "cell_type": "code",
   "execution_count": 12,
   "metadata": {},
   "outputs": [
    {
     "name": "stdout",
     "output_type": "stream",
     "text": [
      "Loss = 0.5223616271543858\n",
      "Loss = 0.3764703669575359\n",
      "Loss = 0.34099467252808086\n",
      "Loss = 0.3138012507243324\n",
      "Loss = 0.29754137127860775\n",
      "Loss = 0.27873063811075205\n",
      "Loss = 0.26433721345180133\n",
      "Loss = 0.25301210442458644\n",
      "Loss = 0.23777889054832554\n",
      "Loss = 0.22953917903464233\n",
      "Loss = 0.22093802020906894\n",
      "Loss = 0.20871744070178283\n",
      "Loss = 0.20073438372645677\n",
      "Loss = 0.19398596550006347\n",
      "Loss = 0.18821943496892066\n",
      "Loss = 0.17655664962380807\n",
      "Loss = 0.1721104511709165\n",
      "Loss = 0.16610336499705688\n",
      "Loss = 0.1572803872099309\n",
      "Loss = 0.15095792472092454\n",
      "Loss = 0.14632845734323519\n",
      "Loss = 0.13839241728655247\n",
      "Loss = 0.13656320781516496\n",
      "Loss = 0.13291125126115516\n",
      "Loss = 0.12536143187407667\n",
      "Loss = 0.1215064877044481\n",
      "Loss = 0.11701264651293662\n",
      "Loss = 0.11597766437188489\n",
      "Loss = 0.10983394242441857\n",
      "Loss = 0.10968706292856827\n",
      "Loss = 0.1028514289017171\n",
      "Loss = 0.10100932019863969\n",
      "Loss = 0.09744477621081081\n",
      "Loss = 0.09475034679562203\n",
      "Loss = 0.09219662476180078\n",
      "Loss = 0.09108599275598792\n",
      "Loss = 0.08498933234228206\n",
      "Loss = 0.08822297911171609\n",
      "Loss = 0.07939716382448607\n",
      "Loss = 0.08214087335210142\n",
      "Loss = 0.07606502567956061\n",
      "Loss = 0.07818853596313748\n",
      "Loss = 0.07383067778516203\n",
      "Loss = 0.07577388085187105\n",
      "Loss = 0.07146077675023563\n",
      "Loss = 0.07417102154793102\n",
      "Loss = 0.06993817915069635\n",
      "Loss = 0.06405087671369743\n",
      "Loss = 0.06540027658032106\n",
      "Loss = 0.064608721365618\n"
     ]
    }
   ],
   "source": [
    "model_0, losses = linear_model(learning_rate=0.001, epochs=50, dataset=trainloader)"
   ]
  },
  {
   "cell_type": "code",
   "execution_count": 15,
   "metadata": {},
   "outputs": [
    {
     "data": {
      "image/png": "[encoded data removed]",
      "text/plain": [
       "<Figure size 432x648 with 2 Axes>"
      ]
     },
     "metadata": {
      "image/png": {
       "height": 216,
       "width": 424
      },
      "needs_background": "light"
     },
     "output_type": "display_data"
    }
   ],
   "source": [
    "# Test out your network!\n",
    "\n",
    "dataiter = iter(testloader)\n",
    "images, labels = dataiter.next()\n",
    "img = images[0]\n",
    "# Convert 2D image to 1D vector\n",
    "img = img.resize_(1, 784)\n",
    "\n",
    "# TODO: Calculate the class probabilities (softmax) for img\n",
    "with torch.no_grad():\n",
    "    logps = model_0(img)\n",
    "ps = torch.exp(logps)\n",
    "\n",
    "# Plot the image and probabilities\n",
    "view_classify(img.resize_(1, 28, 28), ps, version='Fashion')"
   ]
  },
  {
   "cell_type": "code",
   "execution_count": null,
   "metadata": {},
   "outputs": [],
   "source": []
  }
 ],
 "metadata": {
  "kernelspec": {
   "display_name": "Python 3",
   "language": "python",
   "name": "python3"
  },
  "language_info": {
   "codemirror_mode": {
    "name": "ipython",
    "version": 3
   },
   "file_extension": ".py",
   "mimetype": "text/x-python",
   "name": "python",
   "nbconvert_exporter": "python",
   "pygments_lexer": "ipython3",
   "version": "3.7.7"
  }
 },
 "nbformat": 4,
 "nbformat_minor": 4
}
